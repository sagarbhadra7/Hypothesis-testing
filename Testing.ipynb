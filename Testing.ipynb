{
  "nbformat": 4,
  "nbformat_minor": 0,
  "metadata": {
    "colab": {
      "name": "Testing.ipynb",
      "provenance": [],
      "authorship_tag": "ABX9TyOTguxcMwPVgVI6DhWr92RL",
      "include_colab_link": true
    },
    "kernelspec": {
      "name": "python3",
      "display_name": "Python 3"
    }
  },
  "cells": [
    {
      "cell_type": "markdown",
      "metadata": {
        "id": "view-in-github",
        "colab_type": "text"
      },
      "source": [
        "<a href=\"https://colab.research.google.com/github/sagarbhadra7/Testing-types/blob/master/Testing.ipynb\" target=\"_parent\"><img src=\"https://colab.research.google.com/assets/colab-badge.svg\" alt=\"Open In Colab\"/></a>"
      ]
    },
    {
      "cell_type": "markdown",
      "metadata": {
        "id": "LaS2tOltNC4f",
        "colab_type": "text"
      },
      "source": [
        "#z_critical "
      ]
    },
    {
      "cell_type": "code",
      "metadata": {
        "id": "-F491Z6qM_06",
        "colab_type": "code",
        "colab": {
          "base_uri": "https://localhost:8080/",
          "height": 118
        },
        "outputId": "f116becc-2a84-419b-db34-7c5e9386cb9e"
      },
      "source": [
        "# import packages\n",
        "import pandas as pd\n",
        "import numpy as np\n",
        "from scipy import stats\n",
        "import math\n",
        "\n",
        "# Dataframe\n",
        "data = pd.read_csv(\"data.csv\")\n",
        "#print(data.head())\n",
        "\n",
        "# Code starts here\n",
        "\n",
        "# sample size\n",
        "sample_size=100\n",
        "\n",
        "# z-critical Score\n",
        "z_critical=stats.norm.ppf(q=0.95)\n",
        "print(\"z_critical Score is \",z_critical)\n",
        "# sampling the dataframe\n",
        "data_sample=data.sample(n=sample_size, random_state=0)\n",
        "\n",
        "# finding the mean of the sample\n",
        "sample_mean=data_sample['SalePrice'].mean()\n",
        "#print(sample_mean)\n",
        "\n",
        "# finding the standard deviation of the population\n",
        "population_std=data['SalePrice'].std()\n",
        "print(\"population standard deviation is \",population_std)\n",
        "\n",
        "# finding the margin of error\n",
        "margin_of_error=z_critical*(population_std/math.sqrt(sample_size))\n",
        "print(\"Margin of error :\",margin_of_error)\n",
        "\n",
        "# finding the confidence interval\n",
        "confidence_interval=(sample_mean - margin_of_error, sample_mean + margin_of_error)\n",
        "print(\"Sample Mean:\", sample_mean)\n",
        "print(\"Confidence interval:\", confidence_interval)\n",
        "\n",
        "\n",
        "# finding the true mean\n",
        "true_mean=data['SalePrice'].mean()\n",
        "print((\"True mean: {}\".format(true_mean)))\n",
        "# Code ends here"
      ],
      "execution_count": 1,
      "outputs": [
        {
          "output_type": "stream",
          "text": [
            "z_critical Score is  1.6448536269514722\n",
            "population standard deviation is  79886.69235666493\n",
            "Margin of error : 13140.191566801677\n",
            "Sample Mean: 183765.44\n",
            "Confidence interval: (170625.2484331983, 196905.6315668017)\n",
            "True mean: 180796.0600682594\n"
          ],
          "name": "stdout"
        }
      ]
    },
    {
      "cell_type": "markdown",
      "metadata": {
        "id": "UBR3gQtyNSjW",
        "colab_type": "text"
      },
      "source": [
        "# Z test"
      ]
    },
    {
      "cell_type": "code",
      "metadata": {
        "id": "OMnbp-oANeKb",
        "colab_type": "code",
        "colab": {
          "base_uri": "https://localhost:8080/",
          "height": 67
        },
        "outputId": "9e1aae2c-3e3f-4e52-92f3-10088bdf5218"
      },
      "source": [
        "from statsmodels.stats.weightstats import ztest\n",
        "\n",
        "# apply ztest \n",
        "z_statistic, p_value = ztest(data['Lot.Area'],value=1200,alternative='smaller')\n",
        "\n",
        "\n",
        "# print z statistic and p value\n",
        "print(\"Z-statistics = \",z_statistic)\n",
        "print(\"p-value = \",p_value)\n",
        "\n",
        "# check the p-value\n",
        "if p_value<0.05:\n",
        "    inference='Reject'\n",
        "else:\n",
        "    inference='Accept'\n",
        "\n",
        "print(\"We\",inference, \"the Null Hypothesis\")"
      ],
      "execution_count": 3,
      "outputs": [
        {
          "output_type": "stream",
          "text": [
            "Z-statistics =  61.46512878748129\n",
            "p-value =  1.0\n",
            "We Accept the Null Hypothesis\n"
          ],
          "name": "stdout"
        }
      ]
    },
    {
      "cell_type": "markdown",
      "metadata": {
        "id": "TFEPPVhYNzKk",
        "colab_type": "text"
      },
      "source": [
        "# t Test"
      ]
    },
    {
      "cell_type": "code",
      "metadata": {
        "id": "Dxglzd5SN5wc",
        "colab_type": "code",
        "colab": {
          "base_uri": "https://localhost:8080/",
          "height": 67
        },
        "outputId": "f5b72eb2-621f-467a-e58b-e9b19e9f0731"
      },
      "source": [
        "import scipy\n",
        "# subset the dataframe\n",
        "family=data[data['Sale.Condition'] == 'Family']['SalePrice']\n",
        "alloca=data[data['Sale.Condition'] == 'Alloca']['SalePrice']\n",
        "\n",
        "# conduct two sample t-test\n",
        "\n",
        "t_stat , p_value=scipy.stats.mstats.ttest_ind(family,alloca)\n",
        "\n",
        "# print the results\n",
        "print('t-statistic = '+str(t_stat))\n",
        "print('p-value = '+str(p_value))\n",
        "\n",
        "if p_value <0.05:\n",
        "    inference='Reject'\n",
        "else:\n",
        "    inference='Accept'\n",
        "\n",
        "print('We '+inference+' null hypothesis')\n"
      ],
      "execution_count": 4,
      "outputs": [
        {
          "output_type": "stream",
          "text": [
            "t-statistic = -0.2600957325150498\n",
            "p-value = 0.7955758684627952\n",
            "We Accept null hypothesis\n"
          ],
          "name": "stdout"
        }
      ]
    },
    {
      "cell_type": "markdown",
      "metadata": {
        "id": "MOgup3EQOCoQ",
        "colab_type": "text"
      },
      "source": [
        "# Chi-squared Test"
      ]
    },
    {
      "cell_type": "code",
      "metadata": {
        "id": "4nla-wHFMePE",
        "colab_type": "code",
        "colab": {
          "base_uri": "https://localhost:8080/",
          "height": 151
        },
        "outputId": "b44b9c0e-0d9d-43d2-e779-cf80c78bbf56"
      },
      "source": [
        "import scipy.stats as stats\n",
        "\n",
        "# categorize the SalePrice into three buckets\n",
        "price = pd.qcut(data['SalePrice'], 3, labels = ['High', 'Medium', 'Low'])\n",
        "\n",
        "# make a frequency table with Land.Conotur\n",
        "observed = pd.crosstab(data['Land.Contour'],price)\n",
        "\n",
        "print(observed)\n",
        "\n",
        "# conduct the chi-square test with the above frequency table\n",
        "chi2, p, dof, ex = stats.chi2_contingency(observed)\n",
        "\n",
        "print(\"Chi-square statistic = \",chi2)\n",
        "print(\"p-value = \",p)"
      ],
      "execution_count": 6,
      "outputs": [
        {
          "output_type": "stream",
          "text": [
            "SalePrice     High  Medium  Low\n",
            "Land.Contour                   \n",
            "Bnk             61      34   22\n",
            "HLS             21      23   76\n",
            "Low             15      18   27\n",
            "Lvl            884     905  844\n",
            "Chi-square statistic =  75.32261796033875\n",
            "p-value =  3.2939340603521704e-14\n"
          ],
          "name": "stdout"
        }
      ]
    },
    {
      "cell_type": "code",
      "metadata": {
        "id": "o8OV9K37M9gB",
        "colab_type": "code",
        "colab": {}
      },
      "source": [
        ""
      ],
      "execution_count": 0,
      "outputs": []
    }
  ]
}