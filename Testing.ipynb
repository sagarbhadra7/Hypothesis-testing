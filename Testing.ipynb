{
  "nbformat": 4,
  "nbformat_minor": 0,
  "metadata": {
    "colab": {
      "name": "Testing.ipynb",
      "provenance": [],
      "authorship_tag": "ABX9TyMje3lwbsDoYwBuStcEHGbW",
      "include_colab_link": true
    },
    "kernelspec": {
      "name": "python3",
      "display_name": "Python 3"
    }
  },
  "cells": [
    {
      "cell_type": "markdown",
      "metadata": {
        "id": "view-in-github",
        "colab_type": "text"
      },
      "source": [
        "<a href=\"https://colab.research.google.com/github/sagarbhadra7/Hypothesis-testing/blob/master/Testing.ipynb\" target=\"_parent\"><img src=\"https://colab.research.google.com/assets/colab-badge.svg\" alt=\"Open In Colab\"/></a>"
      ]
    },
    {
      "cell_type": "markdown",
      "metadata": {
        "id": "LaS2tOltNC4f",
        "colab_type": "text"
      },
      "source": [
        "#z_critical "
      ]
    },
    {
      "cell_type": "code",
      "metadata": {
        "id": "-F491Z6qM_06",
        "colab_type": "code",
        "outputId": "a42407b7-59af-4b4f-8cae-de00c6b2219c",
        "colab": {
          "base_uri": "https://localhost:8080/",
          "height": 118
        }
      },
      "source": [
        "# import packages\n",
        "import pandas as pd\n",
        "import numpy as np\n",
        "from scipy import stats\n",
        "import math\n",
        "\n",
        "# Dataframe\n",
        "data = pd.read_csv(\"data.csv\")\n",
        "#print(data.head())\n",
        "\n",
        "# Code starts here\n",
        "\n",
        "# sample size\n",
        "sample_size=100\n",
        "\n",
        "# z-critical Score\n",
        "z_critical=stats.norm.ppf(q=0.95)\n",
        "print(\"z_critical Score is \",z_critical)\n",
        "# sampling the dataframe\n",
        "data_sample=data.sample(n=sample_size, random_state=0)\n",
        "\n",
        "# finding the mean of the sample\n",
        "sample_mean=data_sample['SalePrice'].mean()\n",
        "#print(sample_mean)\n",
        "\n",
        "# finding the standard deviation of the population\n",
        "population_std=data['SalePrice'].std()\n",
        "print(\"population standard deviation is \",population_std)\n",
        "\n",
        "# finding the margin of error\n",
        "margin_of_error=z_critical*(population_std/math.sqrt(sample_size))\n",
        "print(\"Margin of error :\",margin_of_error)\n",
        "\n",
        "# finding the confidence interval\n",
        "confidence_interval=(sample_mean - margin_of_error, sample_mean + margin_of_error)\n",
        "print(\"Sample Mean:\", sample_mean)\n",
        "print(\"Confidence interval:\", confidence_interval)\n",
        "\n",
        "\n",
        "# finding the true mean\n",
        "true_mean=data['SalePrice'].mean()\n",
        "print((\"True mean: {}\".format(true_mean)))\n",
        "# Code ends here"
      ],
      "execution_count": 1,
      "outputs": [
        {
          "output_type": "stream",
          "text": [
            "z_critical Score is  1.6448536269514722\n",
            "population standard deviation is  79886.69235666493\n",
            "Margin of error : 13140.191566801677\n",
            "Sample Mean: 183765.44\n",
            "Confidence interval: (170625.2484331983, 196905.6315668017)\n",
            "True mean: 180796.0600682594\n"
          ],
          "name": "stdout"
        }
      ]
    },
    {
      "cell_type": "markdown",
      "metadata": {
        "id": "UBR3gQtyNSjW",
        "colab_type": "text"
      },
      "source": [
        "# Z test"
      ]
    },
    {
      "cell_type": "code",
      "metadata": {
        "id": "OMnbp-oANeKb",
        "colab_type": "code",
        "outputId": "1ada38df-9caa-4483-acd0-7a89b28a6755",
        "colab": {
          "base_uri": "https://localhost:8080/",
          "height": 121
        }
      },
      "source": [
        "from statsmodels.stats.weightstats import ztest\n",
        "\n",
        "# apply ztest \n",
        "z_statistic, p_value = ztest(data['Lot.Area'],value=1200,alternative='smaller')\n",
        "\n",
        "\n",
        "# print z statistic and p value\n",
        "print(\"Z-statistics = \",z_statistic)\n",
        "print(\"p-value = \",p_value)\n",
        "\n",
        "# check the p-value\n",
        "if p_value<0.05:\n",
        "    inference='Reject'\n",
        "else:\n",
        "    inference='Accept'\n",
        "\n",
        "print(\"We\",inference, \"the Null Hypothesis\")"
      ],
      "execution_count": 2,
      "outputs": [
        {
          "output_type": "stream",
          "text": [
            "Z-statistics =  61.46512878748129\n",
            "p-value =  1.0\n",
            "We Accept the Null Hypothesis\n"
          ],
          "name": "stdout"
        },
        {
          "output_type": "stream",
          "text": [
            "/usr/local/lib/python3.6/dist-packages/statsmodels/tools/_testing.py:19: FutureWarning: pandas.util.testing is deprecated. Use the functions in the public API at pandas.testing instead.\n",
            "  import pandas.util.testing as tm\n"
          ],
          "name": "stderr"
        }
      ]
    },
    {
      "cell_type": "markdown",
      "metadata": {
        "id": "TFEPPVhYNzKk",
        "colab_type": "text"
      },
      "source": [
        "# t Test"
      ]
    },
    {
      "cell_type": "code",
      "metadata": {
        "id": "Dxglzd5SN5wc",
        "colab_type": "code",
        "outputId": "7a205e6e-3740-4358-a504-bcd5b181dda8",
        "colab": {
          "base_uri": "https://localhost:8080/",
          "height": 67
        }
      },
      "source": [
        "import scipy\n",
        "# subset the dataframe\n",
        "family=data[data['Sale.Condition'] == 'Family']['SalePrice']\n",
        "alloca=data[data['Sale.Condition'] == 'Alloca']['SalePrice']\n",
        "\n",
        "# conduct two sample t-test\n",
        "\n",
        "t_stat , p_value=scipy.stats.mstats.ttest_ind(family,alloca)\n",
        "\n",
        "# print the results\n",
        "print('t-statistic = '+str(t_stat))\n",
        "print('p-value = '+str(p_value))\n",
        "\n",
        "if p_value <0.05:\n",
        "    inference='Reject'\n",
        "else:\n",
        "    inference='Accept'\n",
        "\n",
        "print('We '+inference+' null hypothesis')\n"
      ],
      "execution_count": 3,
      "outputs": [
        {
          "output_type": "stream",
          "text": [
            "t-statistic = -0.2600957325150498\n",
            "p-value = 0.7955758684627952\n",
            "We Accept null hypothesis\n"
          ],
          "name": "stdout"
        }
      ]
    },
    {
      "cell_type": "markdown",
      "metadata": {
        "id": "ahOt-E_UbhSw",
        "colab_type": "text"
      },
      "source": [
        "# One-sample T-test"
      ]
    },
    {
      "cell_type": "code",
      "metadata": {
        "id": "cday4-9tTMcV",
        "colab_type": "code",
        "colab": {
          "base_uri": "https://localhost:8080/",
          "height": 67
        },
        "outputId": "565b83d1-390e-45ac-c4af-1a512d9a48f1"
      },
      "source": [
        "import scipy\n",
        "# subset the dataframe\n",
        "family=data[data['Sale.Condition'] == 'Family']['SalePrice']\n",
        "alloca=data[data['Sale.Condition'] == 'Alloca']['SalePrice']\n",
        "\n",
        "# conduct one sample t-test\n",
        "\n",
        "t_stat , p_value=scipy.stats.ttest_1samp(family,data['SalePrice'].mean())\n",
        "\n",
        "# print the results\n",
        "print('t-statistic = '+str(t_stat))\n",
        "print('p-value = '+str(p_value))\n",
        "\n",
        "if p_value <0.05:\n",
        "    inference='Reject'\n",
        "else:\n",
        "    inference='Accept'\n",
        "\n",
        "print('We '+inference+' null hypothesis')"
      ],
      "execution_count": 12,
      "outputs": [
        {
          "output_type": "stream",
          "text": [
            "t-statistic = -2.4942829108464157\n",
            "p-value = 0.01636126280238211\n",
            "We Reject null hypothesis\n"
          ],
          "name": "stdout"
        }
      ]
    },
    {
      "cell_type": "markdown",
      "metadata": {
        "id": "K085E4VUbmBy",
        "colab_type": "text"
      },
      "source": [
        "# Two-sample T-test "
      ]
    },
    {
      "cell_type": "code",
      "metadata": {
        "id": "hNJJA1MRbmaP",
        "colab_type": "code",
        "colab": {
          "base_uri": "https://localhost:8080/",
          "height": 67
        },
        "outputId": "07b6ac9b-bade-4fa1-9729-56d1476ec49a"
      },
      "source": [
        "# conduct two sample t-test\n",
        "\n",
        "t_stat , p_value=stats.ttest_ind(family,alloca,equal_var=False)\n",
        "\n",
        "# print the results\n",
        "print('t-statistic = '+str(t_stat))\n",
        "print('p-value = '+str(p_value))\n",
        "\n",
        "if p_value <0.05:\n",
        "    inference='Reject'\n",
        "else:\n",
        "    inference='Accept'\n",
        "\n",
        "print('We '+inference+' null hypothesis')\n"
      ],
      "execution_count": 13,
      "outputs": [
        {
          "output_type": "stream",
          "text": [
            "t-statistic = -0.24953712871868106\n",
            "p-value = 0.8041689119988424\n",
            "We Accept null hypothesis\n"
          ],
          "name": "stdout"
        }
      ]
    },
    {
      "cell_type": "markdown",
      "metadata": {
        "id": "MOgup3EQOCoQ",
        "colab_type": "text"
      },
      "source": [
        "# Chi-squared Test"
      ]
    },
    {
      "cell_type": "code",
      "metadata": {
        "id": "4nla-wHFMePE",
        "colab_type": "code",
        "outputId": "27d4d591-c6e6-431f-f4eb-727df9161aae",
        "colab": {
          "base_uri": "https://localhost:8080/",
          "height": 151
        }
      },
      "source": [
        "import scipy.stats as stats\n",
        "\n",
        "# categorize the SalePrice into three buckets\n",
        "price = pd.qcut(data['SalePrice'], 3, labels = ['High', 'Medium', 'Low'])\n",
        "\n",
        "# make a frequency table with Land.Conotur\n",
        "observed = pd.crosstab(data['Land.Contour'],price)\n",
        "\n",
        "print(observed)\n",
        "\n",
        "# conduct the chi-square test with the above frequency table\n",
        "chi2, p, dof, ex = stats.chi2_contingency(observed)\n",
        "\n",
        "print(\"Chi-square statistic = \",chi2)\n",
        "print(\"p-value = \",p)"
      ],
      "execution_count": 5,
      "outputs": [
        {
          "output_type": "stream",
          "text": [
            "SalePrice     High  Medium  Low\n",
            "Land.Contour                   \n",
            "Bnk             61      34   22\n",
            "HLS             21      23   76\n",
            "Low             15      18   27\n",
            "Lvl            884     905  844\n",
            "Chi-square statistic =  75.32261796033875\n",
            "p-value =  3.2939340603521704e-14\n"
          ],
          "name": "stdout"
        }
      ]
    },
    {
      "cell_type": "markdown",
      "metadata": {
        "id": "jrbcfmXOUvEL",
        "colab_type": "text"
      },
      "source": [
        "# Correlation"
      ]
    },
    {
      "cell_type": "code",
      "metadata": {
        "id": "y49JM4aPUt3x",
        "colab_type": "code",
        "colab": {
          "base_uri": "https://localhost:8080/",
          "height": 722
        },
        "outputId": "bc350f64-eed0-4578-d5a9-d28fd9ffd573"
      },
      "source": [
        "print(data.corr())"
      ],
      "execution_count": 7,
      "outputs": [
        {
          "output_type": "stream",
          "text": [
            "                    Order       PID  MS.SubClass  ...   Mo.Sold   Yr.Sold  SalePrice\n",
            "Order            1.000000  0.173593     0.011797  ...  0.133365 -0.975993  -0.031408\n",
            "PID              0.173593  1.000000    -0.001281  ... -0.050455  0.009579  -0.246521\n",
            "MS.SubClass      0.011797 -0.001281     1.000000  ...  0.000350 -0.017905  -0.085092\n",
            "Lot.Frontage    -0.007034 -0.096918    -0.420135  ...  0.011085 -0.007547   0.357318\n",
            "Lot.Area         0.031354  0.034868    -0.204613  ...  0.003859 -0.023085   0.266549\n",
            "Overall.Qual    -0.048500 -0.263147     0.039419  ...  0.031103 -0.020719   0.799262\n",
            "Overall.Cond    -0.011054  0.104451    -0.067349  ... -0.007295  0.031207  -0.101697\n",
            "Year.Built      -0.052319 -0.343388     0.036579  ...  0.014577 -0.013197   0.558426\n",
            "Year.Remod.Add  -0.075566 -0.157111     0.043397  ...  0.018048  0.032652   0.532974\n",
            "Mas.Vnr.Area    -0.030907 -0.229283     0.002730  ... -0.000276 -0.017715   0.508285\n",
            "BsmtFin.SF.1    -0.032321 -0.098375    -0.060075  ... -0.001155  0.022397   0.432914\n",
            "BsmtFin.SF.2    -0.002773 -0.001145    -0.070946  ... -0.009484  0.007105   0.005891\n",
            "Bsmt.Unf.SF      0.005780 -0.087707    -0.130421  ...  0.021569 -0.036384   0.182855\n",
            "Total.Bsmt.SF   -0.028719 -0.189642    -0.219445  ...  0.016678 -0.010405   0.632280\n",
            "X1st.Flr.SF     -0.013201 -0.141902    -0.247828  ...  0.040496 -0.013667   0.621676\n",
            "X2nd.Flr.SF     -0.000417 -0.003289     0.304237  ...  0.013247 -0.018530   0.269373\n",
            "Low.Qual.Fin.SF  0.013589  0.056940     0.025765  ...  0.011397 -0.002074  -0.037660\n",
            "Gr.Liv.Area     -0.009342 -0.107579     0.068061  ...  0.043665 -0.026489   0.706780\n",
            "Bsmt.Full.Bath  -0.042539 -0.037759     0.013701  ... -0.003471  0.044905   0.276050\n",
            "Bsmt.Half.Bath   0.024978  0.004328    -0.003329  ...  0.022699 -0.019529  -0.035835\n",
            "Full.Bath       -0.044985 -0.171431     0.134631  ...  0.046032 -0.004754   0.545604\n",
            "Half.Bath       -0.039749 -0.166636     0.175879  ... -0.001311  0.001561   0.285056\n",
            "Bedroom.AbvGr    0.015424  0.006345    -0.019208  ...  0.053677 -0.018008   0.143913\n",
            "Kitchen.AbvGr   -0.017685  0.076470     0.257698  ...  0.035201  0.035421  -0.119814\n",
            "TotRms.AbvGrd    0.002612 -0.068981     0.031898  ...  0.043784 -0.030498   0.495474\n",
            "Fireplaces      -0.019156 -0.108056    -0.049955  ...  0.032152 -0.007612   0.474558\n",
            "Garage.Yr.Blt   -0.051160 -0.256829     0.088754  ...  0.024498 -0.005159   0.526965\n",
            "Garage.Cars     -0.036185 -0.237484    -0.045883  ...  0.049847 -0.022488   0.647877\n",
            "Garage.Area     -0.035435 -0.210606    -0.103239  ...  0.039544 -0.013018   0.640401\n",
            "Wood.Deck.SF    -0.011292 -0.051135    -0.017310  ...  0.016974  0.000882   0.327143\n",
            "Open.Porch.SF    0.016355 -0.071311    -0.014823  ...  0.033651 -0.037467   0.312951\n",
            "Enclosed.Porch   0.027908  0.162519    -0.022866  ... -0.021324 -0.000505  -0.128787\n",
            "X3Ssn.Porch     -0.024975 -0.024894    -0.037956  ...  0.027229  0.022668   0.032225\n",
            "Screen.Porch     0.004307 -0.025735    -0.050614  ...  0.028169 -0.006116   0.112151\n",
            "Pool.Area        0.052518 -0.002845    -0.003434  ... -0.042223 -0.052541   0.068403\n",
            "Misc.Val        -0.006083 -0.008260    -0.029254  ...  0.007333  0.008574  -0.015691\n",
            "Mo.Sold          0.133365 -0.050455     0.000350  ...  1.000000 -0.155554   0.035259\n",
            "Yr.Sold         -0.975993  0.009579    -0.017905  ... -0.155554  1.000000  -0.030569\n",
            "SalePrice       -0.031408 -0.246521    -0.085092  ...  0.035259 -0.030569   1.000000\n",
            "\n",
            "[39 rows x 39 columns]\n"
          ],
          "name": "stdout"
        }
      ]
    },
    {
      "cell_type": "code",
      "metadata": {
        "id": "13jsbkRlU0iC",
        "colab_type": "code",
        "colab": {}
      },
      "source": [
        ""
      ],
      "execution_count": 0,
      "outputs": []
    }
  ]
}